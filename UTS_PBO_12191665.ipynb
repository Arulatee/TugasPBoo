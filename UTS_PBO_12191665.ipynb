Mencari Volume Segitiga

V=1/3
V1=1/2
AS=float(input("Masukkan Alas Segitiga: "))
Ts=float(input("Masukkan Tinggi Segitiga: "))
T=float(input("Masukkan Tinggi: "))
Volume=V*(V1*As*Ts)*T
print("Volume Limas Segitiga Adalah: "+str(Volume))